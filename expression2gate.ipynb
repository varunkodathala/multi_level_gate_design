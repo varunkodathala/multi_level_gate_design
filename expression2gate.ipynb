{
 "cells": [
  {
   "cell_type": "code",
   "execution_count": 10,
   "metadata": {},
   "outputs": [],
   "source": [
    "import cv2\n",
    "import numpy as np\n",
    "from PIL import Image"
   ]
  },
  {
   "cell_type": "code",
   "execution_count": 87,
   "metadata": {},
   "outputs": [],
   "source": [
    "def break_expression(expression):\n",
    "    chars = expression.split(' ')\n",
    "    ops = ['not', '.', '+','^']\n",
    "    operators = []\n",
    "    for ch in chars:\n",
    "        if ch in ops:\n",
    "            operators.append(ch)\n",
    "            chars.remove(ch)\n",
    "    chars.remove(')')\n",
    "    chars.remove('(')\n",
    "    operand1 = chars[0]\n",
    "    operand2 = chars[1]\n",
    "    return operand1,operand2,operators"
   ]
  },
  {
   "cell_type": "code",
   "execution_count": 98,
   "metadata": {},
   "outputs": [],
   "source": [
    "def get_gate_design(expression):\n",
    "    \n",
    "    operand1,operand2,operators = break_expression(expression)\n",
    "    \n",
    "    blank = np.ones((255,255,3),dtype = np.uint8)*255\n",
    "    and_gate = cv2.resize(cv2.imread('and.png'),(100,100))\n",
    "    or_gate =  cv2.resize(cv2.imread('or.png'),(100,100))\n",
    "    xor_gate =  cv2.resize(cv2.imread('xor.png'),(100,100))\n",
    "    nand_gate = cv2.resize(cv2.imread('nand.png'),(100,100))\n",
    "    nor_gate =  cv2.resize(cv2.imread('nor.png'),(100,100))\n",
    "    x_offset=y_offset=20\n",
    "    if '.' in expression:\n",
    "        blank[y_offset:y_offset+and_gate.shape[0], x_offset:x_offset+and_gate.shape[1]] = and_gate\n",
    "    if '+' in expression:\n",
    "        blank[y_offset:y_offset+and_gate.shape[0], x_offset:x_offset+and_gate.shape[1]] = or_gate\n",
    "    if '^' in expression:\n",
    "        blank[y_offset:y_offset+and_gate.shape[0], x_offset:x_offset+and_gate.shape[1]] = xor_gate\n",
    "    if 'not' in expression and '.' in expression:\n",
    "        blank[y_offset:y_offset+and_gate.shape[0], x_offset:x_offset+and_gate.shape[1]] = nand_gate\n",
    "    if 'not' in expression and '+' in expression:\n",
    "        blank[y_offset:y_offset+and_gate.shape[0], x_offset:x_offset+and_gate.shape[1]] = nor_gate\n",
    "        \n",
    "    cv2.putText(blank,f'{operand1}',(20,15),cv2.FONT_HERSHEY_COMPLEX,0.5,(0,0,0))\n",
    "    cv2.putText(blank,f'{operand2}',(20,140),cv2.FONT_HERSHEY_COMPLEX,0.5,(0,0,0))\n",
    "    cv2.putText(blank,f'{expression}',(110,50),cv2.FONT_HERSHEY_COMPLEX,0.5,(0,0,0))\n",
    "    return blank"
   ]
  },
  {
   "cell_type": "markdown",
   "metadata": {},
   "source": [
    "# SINGLE GATE LEVEL DESIGN"
   ]
  },
  {
   "cell_type": "code",
   "execution_count": 113,
   "metadata": {},
   "outputs": [
    {
     "data": {
      "image/png": "[encoded data removed]",
      "text/plain": [
       "<PIL.Image.Image image mode=RGB size=255x255 at 0x24AFCD5CCF8>"
      ]
     },
     "metadata": {},
     "output_type": "display_data"
    }
   ],
   "source": [
    "expression = 'not ( AB . BC )'\n",
    "display(Image.fromarray(get_gate_design(expression)))"
   ]
  },
  {
   "cell_type": "code",
   "execution_count": 99,
   "metadata": {},
   "outputs": [
    {
     "data": {
      "image/png": "[encoded data removed]",
      "text/plain": [
       "<PIL.Image.Image image mode=RGB size=255x255 at 0x24AFCD5C160>"
      ]
     },
     "metadata": {},
     "output_type": "display_data"
    }
   ],
   "source": [
    "expression = 'not ( AB + BC )'\n",
    "display(Image.fromarray(get_gate_design(expression)))"
   ]
  },
  {
   "cell_type": "markdown",
   "metadata": {},
   "source": [
    "# MULTI GATE DESIGN"
   ]
  },
  {
   "cell_type": "code",
   "execution_count": 127,
   "metadata": {},
   "outputs": [],
   "source": []
  },
  {
   "cell_type": "code",
   "execution_count": 146,
   "metadata": {},
   "outputs": [],
   "source": [
    "def split_expression(expression):\n",
    "    expressions = []\n",
    "    mid_ops = []\n",
    "    ops = ['+', '.', '^']\n",
    "    chars = expression.split(' ')\n",
    "    for i in range(len(chars)):\n",
    "        if chars[i] == '[':\n",
    "            temp = ''\n",
    "            for j in range(i+1,len(chars)):\n",
    "                if chars[j]==']':\n",
    "                    if chars[j+1] in ops:\n",
    "                        mid_ops.append(chars[j+1])\n",
    "                    break\n",
    "                temp+=chars[j]\n",
    "                temp+=' '\n",
    "            expressions.append(temp[:-1])\n",
    "    return expressions,mid_ops"
   ]
  },
  {
   "cell_type": "code",
   "execution_count": 324,
   "metadata": {},
   "outputs": [],
   "source": [
    "def get_gate_design(expression,blank,position):\n",
    "    \n",
    "    operand1,operand2,operators = break_expression(expression)\n",
    "    and_gate = cv2.resize(cv2.imread('and.png'),(100,100))\n",
    "    or_gate =  cv2.resize(cv2.imread('or.png'),(100,100))\n",
    "    xor_gate =  cv2.resize(cv2.imread('xor.png'),(100,100))\n",
    "    nand_gate = cv2.resize(cv2.imread('nand.png'),(100,100))\n",
    "    nor_gate =  cv2.resize(cv2.imread('nor.png'),(100,100))\n",
    "    x_offset=20\n",
    "    y_offset=position\n",
    "    if '.' in expression:\n",
    "        blank[y_offset:y_offset+and_gate.shape[0], x_offset:x_offset+and_gate.shape[1]] = and_gate\n",
    "    if '+' in expression:\n",
    "        blank[y_offset:y_offset+and_gate.shape[0], x_offset:x_offset+and_gate.shape[1]] = or_gate\n",
    "    if '^' in expression:\n",
    "        blank[y_offset:y_offset+and_gate.shape[0], x_offset:x_offset+and_gate.shape[1]] = xor_gate\n",
    "    if 'not' in expression and '.' in expression:\n",
    "        blank[y_offset:y_offset+and_gate.shape[0], x_offset:x_offset+and_gate.shape[1]] = nand_gate\n",
    "    if 'not' in expression and '+' in expression:\n",
    "        blank[y_offset:y_offset+and_gate.shape[0], x_offset:x_offset+and_gate.shape[1]] = nor_gate\n",
    "        \n",
    "    cv2.putText(blank,f'{operand1}',(x_offset,y_offset-5),cv2.FONT_HERSHEY_COMPLEX,0.5,(0,0,0))\n",
    "    cv2.rectangle(blank,(x_offset-10,y_offset-20),(x_offset+250,y_offset+125),(0,0,0),2)\n",
    "    cv2.putText(blank,f'{operand2}',(x_offset,120+y_offset),cv2.FONT_HERSHEY_COMPLEX,0.5,(0,0,0))\n",
    "    cv2.putText(blank,f'{expression}',(x_offset+80,y_offset+25),cv2.FONT_HERSHEY_COMPLEX,0.5,(0,0,0))\n",
    "    \n",
    "    cv2.circle(blank,(x_offset+350,(y_offset+55)),3,(0,0,0),-1)\n",
    "    cv2.circle(blank,(x_offset+250,(y_offset+55)),3,(0,0,0),-1)\n",
    "    \n",
    "    cv2.line(blank,(x_offset+350,(y_offset+55)),(x_offset+250,(y_offset+55)),(0,0,0),2)\n",
    "    \n",
    "    return blank\n",
    "\n",
    "def multi_gate_design(expression):\n",
    "    and_gate = cv2.resize(cv2.imread('and.png'),(100,100))\n",
    "    or_gate =  cv2.resize(cv2.imread('or.png'),(100,100))\n",
    "    xor_gate =  cv2.resize(cv2.imread('xor.png'),(100,100))\n",
    "    nand_gate = cv2.resize(cv2.imread('nand.png'),(100,100))\n",
    "    nor_gate =  cv2.resize(cv2.imread('nor.png'),(100,100))\n",
    "    expressions,mid_ops = split_expression(expression)\n",
    "    blank = np.ones((1080,1080,3),dtype=np.uint8)*255\n",
    "    blank = get_gate_design(expressions[0],blank,30)\n",
    "    blank = get_gate_design(expressions[1],blank,190)\n",
    "    \n",
    "    x_offset = 500\n",
    "    y_offset = 120\n",
    "    if '.' in mid_ops:\n",
    "        blank[y_offset:y_offset+and_gate.shape[0], x_offset:x_offset+and_gate.shape[1]] = and_gate\n",
    "    if '+' in mid_ops:\n",
    "        blank[y_offset:y_offset+and_gate.shape[0], x_offset:x_offset+and_gate.shape[1]] = or_gate\n",
    "    if '^' in mid_ops:\n",
    "        blank[y_offset:y_offset+and_gate.shape[0], x_offset:x_offset+and_gate.shape[1]] = xor_gate\n",
    "        \n",
    "    cv2.rectangle(blank,(x_offset-10,y_offset-20),(x_offset+450,y_offset+125),(0,0,0),2)\n",
    "    cv2.putText(blank,f'{expression}',(x_offset+80,y_offset+25),cv2.FONT_HERSHEY_COMPLEX,0.5,(0,0,0))\n",
    "    \n",
    "    cv2.circle(blank,(x_offset-130,y_offset+30),3,(0,0,0),-1)\n",
    "    cv2.circle(blank,(x_offset-10,y_offset+30),3,(0,0,0),-1)\n",
    "    cv2.line(blank, (x_offset-130,y_offset+30), (x_offset-10,y_offset+30), (0,0,0), 2) \n",
    "    cv2.line(blank, (x_offset-130,y_offset+30), (x_offset-130,y_offset-35), (0,0,0), 2)\n",
    "    \n",
    "    cv2.circle(blank,(x_offset-130,y_offset+80),3,(0,0,255),-1)\n",
    "    cv2.circle(blank,(x_offset-10,y_offset+80),3,(0,0,255),-1)\n",
    "    cv2.line(blank, (x_offset-130,y_offset+80), (x_offset-10,y_offset+80), (0,0,0), 2)  \n",
    "    cv2.line(blank, (x_offset-130,y_offset+80), (x_offset-130,y_offset+125), (0,0,0), 2)\n",
    "    \n",
    "    return blank\n"
   ]
  },
  {
   "cell_type": "code",
   "execution_count": 329,
   "metadata": {},
   "outputs": [
    {
     "data": {
      "image/png": "[encoded data removed]",
      "text/plain": [
       "<PIL.Image.Image image mode=RGB size=1080x1080 at 0x24AFDF48630>"
      ]
     },
     "metadata": {},
     "output_type": "display_data"
    }
   ],
   "source": [
    "expression = '{ [ ( A . F ) ] ^ [ not ( D + C ) ] }'\n",
    "display(Image.fromarray(multi_gate_design(expression)))"
   ]
  },
  {
   "cell_type": "code",
   "execution_count": null,
   "metadata": {},
   "outputs": [],
   "source": []
  }
 ],
 "metadata": {
  "kernelspec": {
   "display_name": "Python 3",
   "language": "python",
   "name": "python3"
  },
  "language_info": {
   "codemirror_mode": {
    "name": "ipython",
    "version": 3
   },
   "file_extension": ".py",
   "mimetype": "text/x-python",
   "name": "python",
   "nbconvert_exporter": "python",
   "pygments_lexer": "ipython3",
   "version": "3.6.3"
  }
 },
 "nbformat": 4,
 "nbformat_minor": 4
}
